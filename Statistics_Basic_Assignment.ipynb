{
  "nbformat": 4,
  "nbformat_minor": 0,
  "metadata": {
    "colab": {
      "provenance": [],
      "authorship_tag": "ABX9TyM0BKOjmp6Qb9W5bD1UPF2O",
      "include_colab_link": true
    },
    "kernelspec": {
      "name": "python3",
      "display_name": "Python 3"
    },
    "language_info": {
      "name": "python"
    }
  },
  "cells": [
    {
      "cell_type": "markdown",
      "metadata": {
        "id": "view-in-github",
        "colab_type": "text"
      },
      "source": [
        "<a href=\"https://colab.research.google.com/github/Prajakta-ctrl/Python-Basics-Assignment/blob/main/Statistics_Basic_Assignment.ipynb\" target=\"_parent\"><img src=\"https://colab.research.google.com/assets/colab-badge.svg\" alt=\"Open In Colab\"/></a>"
      ]
    },
    {
      "cell_type": "markdown",
      "source": [
        "Theory Based Questions:\n",
        "\n",
        "Que.1.Statistics is a mathematical science including the methods of collecting, organizing and analyzing the data. Statistics is important that we try to learn pattern in data.\n",
        "\n",
        "      \n",
        "Que.2.The two main types of statistics are first one is descriptive and the second one is inferential.\n",
        "\n",
        "\n",
        "Que.3.Descriptive statistics is a type of statistics which consists of organizing and summerizing the complete data.\n",
        "\n",
        "\n",
        "Que.4.Inferential statistics is an another type of statistics which consists of using data that has been measured to form the conclusion about the population.\n",
        "\n",
        "\n",
        "Que.5.Sampling in statistics is method of taking a sample from the population.\n",
        "\n",
        "\n",
        "Que.6.The different types of sampling methods are:\n",
        "1.simple random sampling\n",
        "2.stratified sampling\n",
        "3.cluster sampling\n",
        "4.systematic sampling\n",
        "\n",
        "\n",
        "Que.7.In random sampling each member of the population has an equal chance of being selected while in non random samppling it uses a specific convinience.\n",
        "\n",
        "\n",
        "Que.8.Qualitative data refers to the qualities and characteristics of the data while quantitaive data refers to the numerical value or the quantity in which the data is present.\n",
        "\n",
        "\n",
        "Que.9.The data is of two types that are first one is qualitative data and another one is quantitative data.\n",
        "\n",
        "\n",
        "Que.10.The nominal data is to simply categorizes variables according to qualitative labels or their names. The ordinal data is also used to categorise variables into labeled groups while these categories have an order to them. The interval data is a numerical scale which labels and orders the variables with known interval between each of the values. The ratio data is exactly similar to the interval data while it has a true zero.\n",
        "\n",
        "\n",
        "Que.11.The measure of a central tendency is a number used to refer the center positin of a set of the data values.\n",
        "\n",
        "\n",
        "Que.12.Mean is defined as the average that is calculated by adding all the values and dividing them by total number of values, Mode is the value that appears most of the times in a dataset and Median is the middle value in a dataset when all the values are in ascending order.\n",
        "\n",
        "\n",
        "Que.13.The significance of the measure of central tendency is they summarize the dataset with a single value which represents the centre of the dataset making it easier to understand large information amounts.\n",
        "\n",
        "\n",
        "Que.14.variance is a statistical measure that quantifies the amount of the dispersion of a set of data points occured.\n",
        "\n",
        "\n",
        "Que.15.A standard deviation is a measure of how dispersed the data is in relation to the mean of the dataset. It is important in order to understand the data variability and to reveal that how the data points are spread out around the mean.\n",
        "\n",
        "\n",
        "Que.16.Range in statistics is term that is a measure of dispersion that represents the difference between the highest and the lowest values in a dataset.\n",
        "\n",
        "\n",
        "Que.17.The difference between the variance and the standard deviation is that a variance is represented in terms of the square units while standard deviation is represented in terms of the original units of the data.\n",
        "\n",
        "\n",
        "Que.18.Skewness is a statistical measure that describes the shape of data distribution. skewness represents the asymmetry of distribution.\n",
        "\n",
        "\n",
        "Que.19.A positively skewed dataset means it have a longer tail on the right side with most values custered on the left side while a negatively skewed dataset means it has no longer tail on the left side with most values clustered on the right side.\n",
        "\n",
        "\n",
        "Que.20.kurtosis is a statistical measure that also describes the shape of the data distribution. kurtosis represents the peakedness of the data distribution.\n",
        "\n",
        "\n",
        "Que.21.The purpose of the covariance is to measure relationship between the two variables and how they change together.\n",
        "\n",
        "\n",
        "Que.22.Correlation measures the direction & the strength of linear relationship between two variables in statistics.\n",
        "\n",
        "\n",
        "Que.23.Covariance helps to indiacte the positive or negative direction of the relationship while correlation provides a measure of the both the direction and the strength of linear relationship.\n",
        "\n",
        "\n",
        "Que.24.Statistics is widely used as real life aplications as in some scientific researches, in business, in government surveys etc.,"
      ],
      "metadata": {
        "id": "M1ueb4Ya-K91"
      }
    },
    {
      "cell_type": "markdown",
      "source": [
        "Practical Based Questions:"
      ],
      "metadata": {
        "id": "2DBcNfn7-MWk"
      }
    },
    {
      "cell_type": "code",
      "source": [
        "#Que.1.\n",
        "import statistics\n",
        "\n",
        "dataset={2,2,3,4,5,6,7,8,9,10}\n",
        "meanofdataset=statistics.mean(dataset)\n",
        "modeofdataset=statistics.mode(dataset)\n",
        "medianofdataset=statistics.median(dataset)\n",
        "print(meanofdataset)\n",
        "print(modeofdataset)\n",
        "print(medianofdataset)"
      ],
      "metadata": {
        "id": "VpwD7FgC-MjM",
        "colab": {
          "base_uri": "https://localhost:8080/"
        },
        "outputId": "95f4e3a6-5b3e-4f9c-e6cb-41b7b718a642"
      },
      "execution_count": 4,
      "outputs": [
        {
          "output_type": "stream",
          "name": "stdout",
          "text": [
            "6\n",
            "2\n",
            "6\n"
          ]
        }
      ]
    },
    {
      "cell_type": "code",
      "source": [
        "#Que.2.\n",
        "import statistics\n",
        "import math\n",
        "dataset={4,5,6,7,8,9}\n",
        "populationvariance=statistics.pvariance(dataset)\n",
        "samplevariance=statistics.variance(dataset)\n",
        "populationstandarddeviation=math.sqrt(populationvariance)\n",
        "samplestandarddeviation=math.sqrt(samplevariance)\n",
        "print(populationvariance)\n",
        "print(samplevariance)\n",
        "print(populationstandarddeviation)\n",
        "print(samplestandarddeviation)"
      ],
      "metadata": {
        "id": "vSrjjJr9-Mn-",
        "colab": {
          "base_uri": "https://localhost:8080/"
        },
        "outputId": "fa89ce8d-d4e3-48d8-d140-489b373f5168"
      },
      "execution_count": 5,
      "outputs": [
        {
          "output_type": "stream",
          "name": "stdout",
          "text": [
            "2.9166666666666665\n",
            "3.5\n",
            "1.707825127659933\n",
            "1.8708286933869707\n"
          ]
        }
      ]
    },
    {
      "cell_type": "code",
      "source": [
        "#Que.3.\n"
      ],
      "metadata": {
        "id": "z8tNBeGb-Mvd"
      },
      "execution_count": null,
      "outputs": []
    },
    {
      "cell_type": "code",
      "source": [
        "#Que.4."
      ],
      "metadata": {
        "id": "Bq-Rk1kj-Mx0"
      },
      "execution_count": null,
      "outputs": []
    },
    {
      "cell_type": "code",
      "source": [
        "#Que.5."
      ],
      "metadata": {
        "id": "S3FHQS4Y-M0t"
      },
      "execution_count": null,
      "outputs": []
    },
    {
      "cell_type": "code",
      "source": [
        "#Que.6."
      ],
      "metadata": {
        "id": "BG-S64Rtky7k"
      },
      "execution_count": null,
      "outputs": []
    },
    {
      "cell_type": "code",
      "source": [
        "#Que.7."
      ],
      "metadata": {
        "id": "Y27T94kIkzFr"
      },
      "execution_count": null,
      "outputs": []
    },
    {
      "cell_type": "code",
      "source": [
        "#Que.8."
      ],
      "metadata": {
        "id": "6WNVc0gkkzOD"
      },
      "execution_count": null,
      "outputs": []
    },
    {
      "cell_type": "code",
      "source": [
        "#Que.9."
      ],
      "metadata": {
        "id": "PBahO57mkzUk"
      },
      "execution_count": null,
      "outputs": []
    },
    {
      "cell_type": "code",
      "source": [
        "#Que.10."
      ],
      "metadata": {
        "id": "nHX_KHqYkzcr"
      },
      "execution_count": null,
      "outputs": []
    },
    {
      "cell_type": "code",
      "source": [
        "#Que.11."
      ],
      "metadata": {
        "id": "VSm7-9KWkzi2"
      },
      "execution_count": null,
      "outputs": []
    },
    {
      "cell_type": "code",
      "source": [
        "#Que.12."
      ],
      "metadata": {
        "id": "oDw-Crg5kzom"
      },
      "execution_count": null,
      "outputs": []
    },
    {
      "cell_type": "code",
      "source": [
        "#Que.13."
      ],
      "metadata": {
        "id": "dYSq282Ckzzj"
      },
      "execution_count": null,
      "outputs": []
    },
    {
      "cell_type": "code",
      "source": [
        "#Que.14."
      ],
      "metadata": {
        "id": "bRYsdel-kz4j"
      },
      "execution_count": null,
      "outputs": []
    },
    {
      "cell_type": "code",
      "source": [
        "#Que.15."
      ],
      "metadata": {
        "id": "PMSI8QTik0AL"
      },
      "execution_count": null,
      "outputs": []
    },
    {
      "cell_type": "code",
      "source": [
        "#Que.16."
      ],
      "metadata": {
        "id": "pqpZxeSCk0Gr"
      },
      "execution_count": null,
      "outputs": []
    },
    {
      "cell_type": "code",
      "source": [
        "#Que.17."
      ],
      "metadata": {
        "id": "cWapRXOJk0Ob"
      },
      "execution_count": null,
      "outputs": []
    },
    {
      "cell_type": "code",
      "source": [
        "#Que.18."
      ],
      "metadata": {
        "id": "HLu6fEkQk0VN"
      },
      "execution_count": null,
      "outputs": []
    },
    {
      "cell_type": "code",
      "source": [
        "#Que.19."
      ],
      "metadata": {
        "id": "A0RS8Sklk0cO"
      },
      "execution_count": null,
      "outputs": []
    },
    {
      "cell_type": "code",
      "source": [
        "#Que.20."
      ],
      "metadata": {
        "id": "5VaEthhzk0jT"
      },
      "execution_count": null,
      "outputs": []
    },
    {
      "cell_type": "code",
      "source": [
        "#Que.21."
      ],
      "metadata": {
        "id": "t7XIsX4Lk0qr"
      },
      "execution_count": null,
      "outputs": []
    },
    {
      "cell_type": "code",
      "source": [
        "#Que.22."
      ],
      "metadata": {
        "id": "44FbYci3k0xc"
      },
      "execution_count": null,
      "outputs": []
    },
    {
      "cell_type": "code",
      "source": [
        "#Que.23."
      ],
      "metadata": {
        "id": "zCDnsvngk038"
      },
      "execution_count": null,
      "outputs": []
    },
    {
      "cell_type": "code",
      "source": [
        "#Que.24."
      ],
      "metadata": {
        "id": "0SBseFN6k0-J"
      },
      "execution_count": null,
      "outputs": []
    }
  ]
}