{
  "nbformat": 4,
  "nbformat_minor": 0,
  "metadata": {
    "colab": {
      "provenance": [],
      "authorship_tag": "ABX9TyPhoSnbi02D7i8lTMCa6GS8",
      "include_colab_link": true
    },
    "kernelspec": {
      "name": "python3",
      "display_name": "Python 3"
    },
    "language_info": {
      "name": "python"
    }
  },
  "cells": [
    {
      "cell_type": "markdown",
      "metadata": {
        "id": "view-in-github",
        "colab_type": "text"
      },
      "source": [
        "<a href=\"https://colab.research.google.com/github/Prajakta-ctrl/Python-Basics-Assignment/blob/main/Data_Structure_Assignment.ipynb\" target=\"_parent\"><img src=\"https://colab.research.google.com/assets/colab-badge.svg\" alt=\"Open In Colab\"/></a>"
      ]
    },
    {
      "cell_type": "markdown",
      "source": [
        "Theory Based Questions:\n",
        "\n",
        "Que.1.These are the fundamental tools inthe programming that stores the data in a computer. It is important because it  stores or arrange the data in a systematic way that leads to the fast software.\n",
        "\n",
        "Que.2.Mutable data types are those data types which can be modified after declaration while the immutable data types are those data types which cannot be changed or modified once get declared. Like lists can be modified after declaration i.e. lists are mutable data types while tuples or strings cannot be changed or modified after declaration i.e. tuples and strings are immutable data types.\n",
        "\n",
        "Que.3.The main difference between the lists and tuples is that the lists are mutable data types that it can be modified after declaration but the tuples cannot changed that tuples are immutable data types.\n",
        "\n",
        "Que.4.Data type dictionary stores the data in the form of key value pair that data given must be in the form of key value pair in which the keys are of immutable type while values can be mutable.\n",
        "\n",
        "Que.5.Usually sets are used instead of lists in python because set contains unordered collection of unique elements while list contains ordered collection of the elements that can also contain duplicate values. Lists contain duplicate values while set automatically removes the duplicate values therefore sets are used instead of lists in python.\n",
        "\n",
        "Que.6.String in a python is just a sequence of characters which represents a given text or given paragraph. String is a data type different from list in a way that a string is immutable that it cannot be changed or modified once declared while a list is mutable data structure that it can be modified once get declared.\n",
        "\n",
        "Que.7.The tuples ensure the data integrity because of their immutability type of data structure.\n",
        "\n",
        "Que.8.The hash table is a type of data structure that stores the pair of key value and assigns the value as hash. It relate the dictionaries as the key value pair is stored in dictionary by default function hash().\n",
        "\n",
        "Que.9.Yes the lists can contain the different types of data structures like string, tuple, etc.\n",
        "\n",
        "Que.10.Strings are immutable for the purpose of memory efficiency and for the other safety majors.\n",
        "\n",
        "Que.11.As the lists can contain duplicate values while dictionaries cannot allow the duplicate keys in it that it is an advantage of dictionary over list. Also in the lists slicing can be done while in dictionary it is not possible that it is also an advantage.\n",
        "\n",
        "Que.12.Scenario like in certain offices they should maintain the employee data and some information like adhaar or employee ID cannot be same and these things are unchangeable for that employee that the tuple helps here to maintain this in the that tuple cannot allow to modify the data while lists allow to modify the data once get declared.\n",
        "\n",
        "Que.13.The sets automatically removes the duplicate values where it can only contain the unique values in it.\n",
        "\n",
        "Que.14.The in operator functions differently for the lists and dictionaries like in operator in lists used to check whether an element is present in list or not and it searches sequentially while for dictionaries in operator only check for the keys not for the values in dictionaries.\n",
        "\n",
        "Que.15.We cannot modify the elements of tuples as the data structure tuple is immutable type data structure therefore we cannot modify elements within tuples.\n",
        "\n",
        "Que.16.The nested dictionary refers to those dictionaries that contains the dictionaries within the dictionary.\n",
        "\n",
        "Que.17.Dictionaries take the constant time for accessing the elements within the dictionary.\n",
        "\n",
        "Que.18.For the ordered sequences like stack the lists are preferred over the Dictionaries as the dictionaries are of unordered sequences.\n",
        "\n",
        "Que 19.The dictionaries are considered as unordered sequences because they do not maintain any order of the item.\n",
        "\n",
        "Que.20.Lists are the ordered collection of the elements or items while the Dictionaries are unordered collection of items in the form of key value pairs."
      ],
      "metadata": {
        "id": "wkfuSyZvCrM6"
      }
    },
    {
      "cell_type": "markdown",
      "source": [
        "Practical Based Questions:"
      ],
      "metadata": {
        "id": "d8qNNF6as2Wy"
      }
    },
    {
      "cell_type": "code",
      "source": [
        "#Que.1.\n",
        "username=input(\"enter your name: \")\n",
        "print(\"name of the user is: \",username)"
      ],
      "metadata": {
        "colab": {
          "base_uri": "https://localhost:8080/"
        },
        "id": "ZeFB-rgFsxx8",
        "outputId": "888e8ee2-5d23-4b92-87bc-f7a9192186cb"
      },
      "execution_count": null,
      "outputs": [
        {
          "output_type": "stream",
          "name": "stdout",
          "text": [
            "enter your name: Prajakta Sarade\n",
            "name of the user is:  Prajakta Sarade\n"
          ]
        }
      ]
    },
    {
      "cell_type": "code",
      "source": [
        "#Que.2.\n",
        "string=\"Hello World\"\n",
        "lengthofstring=len(string)\n",
        "print(\"the length of the given string is: \",lengthofstring)"
      ],
      "metadata": {
        "colab": {
          "base_uri": "https://localhost:8080/"
        },
        "id": "_Lj7PVbQtYC5",
        "outputId": "3dc76ac7-123e-4826-c58e-89cda33ffdc7"
      },
      "execution_count": null,
      "outputs": [
        {
          "output_type": "stream",
          "name": "stdout",
          "text": [
            "the length of the given string is:  11\n"
          ]
        }
      ]
    },
    {
      "cell_type": "code",
      "source": [
        "#Que.3.\n",
        "string=\"Python Programming\"\n",
        "slicedcharacters=string[0:3]\n",
        "print(\"the first three characters are: \",slicedcharacters)"
      ],
      "metadata": {
        "colab": {
          "base_uri": "https://localhost:8080/"
        },
        "id": "4z2JsNBct4oK",
        "outputId": "6809c2de-b142-45eb-c505-19140e549d88"
      },
      "execution_count": null,
      "outputs": [
        {
          "output_type": "stream",
          "name": "stdout",
          "text": [
            "the first three characters are:  Pyt\n"
          ]
        }
      ]
    },
    {
      "cell_type": "code",
      "source": [
        "#Que.4.\n",
        "string=\"hello\"\n",
        "uppercasestring=string.upper()\n",
        "print(\"the given string in uppercase is: \",uppercasestring)"
      ],
      "metadata": {
        "colab": {
          "base_uri": "https://localhost:8080/"
        },
        "id": "-TQQqaG8uawh",
        "outputId": "0b5cd964-f2a9-4970-bb90-57c36f84b512"
      },
      "execution_count": null,
      "outputs": [
        {
          "output_type": "stream",
          "name": "stdout",
          "text": [
            "the given string in uppercase is:  HELLO\n"
          ]
        }
      ]
    },
    {
      "cell_type": "code",
      "source": [
        "#Que.5.\n",
        "string=\"i like apple\"\n",
        "replacedstring=string.replace(\"apple\",\"orange\")\n",
        "print(\"the replaced string is: \",replacedstring)"
      ],
      "metadata": {
        "colab": {
          "base_uri": "https://localhost:8080/"
        },
        "id": "no9bMD-gvOA6",
        "outputId": "8d9390fe-c6c4-449e-90f5-930024cd4b1c"
      },
      "execution_count": null,
      "outputs": [
        {
          "output_type": "stream",
          "name": "stdout",
          "text": [
            "the replaced string is:  i like orange\n"
          ]
        }
      ]
    },
    {
      "cell_type": "code",
      "source": [
        "#Que.6.\n",
        "list=[]\n",
        "for i in range(1,6):\n",
        "  list.append(i)\n",
        "print(\"list containing numbers is: \", list)"
      ],
      "metadata": {
        "colab": {
          "base_uri": "https://localhost:8080/"
        },
        "id": "PGiAZHx8yYZQ",
        "outputId": "fab7a531-6205-4d4d-e7df-9c3474518efd"
      },
      "execution_count": null,
      "outputs": [
        {
          "output_type": "stream",
          "name": "stdout",
          "text": [
            "list containing numbers is:  [1, 2, 3, 4, 5]\n"
          ]
        }
      ]
    },
    {
      "cell_type": "code",
      "source": [
        "#Que.7.\n",
        "list=[1,2,3,4]\n",
        "list.append(10)\n",
        "print(\"new list is: \",list)"
      ],
      "metadata": {
        "colab": {
          "base_uri": "https://localhost:8080/"
        },
        "id": "lbrgzdH20CUP",
        "outputId": "eeea3c3c-1280-41a6-c98d-a41a6e2c32d8"
      },
      "execution_count": null,
      "outputs": [
        {
          "output_type": "stream",
          "name": "stdout",
          "text": [
            "new list is:  [1, 2, 3, 4, 10]\n"
          ]
        }
      ]
    },
    {
      "cell_type": "code",
      "source": [
        "#Que.8.\n",
        "list=[1,2,3,4,5]\n",
        "list.remove(3)\n",
        "print(\"new list is: \",list)"
      ],
      "metadata": {
        "colab": {
          "base_uri": "https://localhost:8080/"
        },
        "id": "MCf4CFc10ZOe",
        "outputId": "a84c7571-f00c-481e-f16f-be5ca33c5d09"
      },
      "execution_count": null,
      "outputs": [
        {
          "output_type": "stream",
          "name": "stdout",
          "text": [
            "new list is:  [1, 2, 4, 5]\n"
          ]
        }
      ]
    },
    {
      "cell_type": "code",
      "source": [
        "#Que.9.\n",
        "list=['a','b','c','d']\n",
        "secondelement=list[1]\n",
        "print(\"the second element in list is: \",secondelement)"
      ],
      "metadata": {
        "colab": {
          "base_uri": "https://localhost:8080/"
        },
        "id": "RvbjoXJ80qym",
        "outputId": "277802fc-cd50-49c9-87b4-84f6e6df7228"
      },
      "execution_count": null,
      "outputs": [
        {
          "output_type": "stream",
          "name": "stdout",
          "text": [
            "the second element in list is:  b\n"
          ]
        }
      ]
    },
    {
      "cell_type": "code",
      "source": [
        "#Que.10.\n",
        "list=[10,20,30,40,50]\n",
        "newlist=list[::-1]\n",
        "print(\"the new list is: \",newlist)"
      ],
      "metadata": {
        "colab": {
          "base_uri": "https://localhost:8080/"
        },
        "id": "hxtEH-R51EbP",
        "outputId": "ced56cc4-214d-43cc-a99e-2bfab3bc2752"
      },
      "execution_count": null,
      "outputs": [
        {
          "output_type": "stream",
          "name": "stdout",
          "text": [
            "the new list is:  [50, 40, 30, 20, 10]\n"
          ]
        }
      ]
    },
    {
      "cell_type": "code",
      "source": [
        "#Que.11.\n",
        "tuple=(100,200,300)\n",
        "print(\"the tuple is: \",tuple)"
      ],
      "metadata": {
        "colab": {
          "base_uri": "https://localhost:8080/"
        },
        "id": "cRgwmxUh1sVf",
        "outputId": "2377a4d4-77e8-4f3c-85c1-bddafb486421"
      },
      "execution_count": null,
      "outputs": [
        {
          "output_type": "stream",
          "name": "stdout",
          "text": [
            "the tuple is:  (100, 200, 300)\n"
          ]
        }
      ]
    },
    {
      "cell_type": "code",
      "source": [
        "#Que.12.\n",
        "list=['red','green','blue','yellow']\n",
        "newlist=list[1::]\n",
        "print(\"the accessed elements are: \",newlist)"
      ],
      "metadata": {
        "colab": {
          "base_uri": "https://localhost:8080/"
        },
        "id": "Is0p2KV32ZTf",
        "outputId": "9d7cd0ba-d26c-4a4a-cbd8-3fbb6a3d8eaa"
      },
      "execution_count": null,
      "outputs": [
        {
          "output_type": "stream",
          "name": "stdout",
          "text": [
            "the accessed elements are:  ['green', 'blue', 'yellow']\n"
          ]
        }
      ]
    },
    {
      "cell_type": "code",
      "source": [
        "#Que.13.\n",
        "tuple=(10,20,5,15)\n",
        "minvalue=min(tuple)\n",
        "print(\"the minimum value in tuple is: \",minvalue)"
      ],
      "metadata": {
        "colab": {
          "base_uri": "https://localhost:8080/"
        },
        "id": "UhLuCxRZ4Nae",
        "outputId": "c5532988-077d-4a8b-ec49-68f6bd09a1fa"
      },
      "execution_count": null,
      "outputs": [
        {
          "output_type": "stream",
          "name": "stdout",
          "text": [
            "the minimum value in tuple is:  5\n"
          ]
        }
      ]
    },
    {
      "cell_type": "code",
      "source": [
        "#Que.14.\n",
        "tuple=('dog','cat','rabbit')\n",
        "catindex=tuple.index(\"cat\")\n",
        "print(\"the index of the cat is: \",catindex)"
      ],
      "metadata": {
        "colab": {
          "base_uri": "https://localhost:8080/"
        },
        "id": "EgR4k_MT4fVN",
        "outputId": "0bdc2128-06d0-430b-a4c8-f828a3b30c42"
      },
      "execution_count": null,
      "outputs": [
        {
          "output_type": "stream",
          "name": "stdout",
          "text": [
            "the index of the cat is:  1\n"
          ]
        }
      ]
    },
    {
      "cell_type": "code",
      "source": [
        "#Que.15.\n",
        "tuple=('apple','peach','kiwi')\n",
        "for i in tuple:\n",
        "  if 'kiwi' in i:\n",
        "    print(\"yes kiwi is present in tuple\")\n"
      ],
      "metadata": {
        "colab": {
          "base_uri": "https://localhost:8080/"
        },
        "id": "lplQKRkg5ecN",
        "outputId": "4941aeac-339f-413d-a474-6f1439f76865"
      },
      "execution_count": null,
      "outputs": [
        {
          "output_type": "stream",
          "name": "stdout",
          "text": [
            "yes kiwi is present in tuple\n"
          ]
        }
      ]
    },
    {
      "cell_type": "code",
      "source": [
        "#Que.16.\n",
        "myset=('a','b','c')\n",
        "print(\"the set is: \",set(myset))"
      ],
      "metadata": {
        "colab": {
          "base_uri": "https://localhost:8080/"
        },
        "id": "351BMDDb6sO0",
        "outputId": "cac6a7fd-86e7-4a52-fdc0-f11942e02980"
      },
      "execution_count": null,
      "outputs": [
        {
          "output_type": "stream",
          "name": "stdout",
          "text": [
            "the set is:  {'b', 'a', 'c'}\n"
          ]
        }
      ]
    },
    {
      "cell_type": "code",
      "source": [
        "#Que.17.\n",
        "myset={1,2,3,4,5}\n",
        "clearingset=myset.clear()\n",
        "print(\"the cleared set is: \",myset)"
      ],
      "metadata": {
        "colab": {
          "base_uri": "https://localhost:8080/"
        },
        "id": "6Ut9G10NDBVw",
        "outputId": "c28d1613-ca15-43a2-9796-a8fbcfe26867"
      },
      "execution_count": null,
      "outputs": [
        {
          "output_type": "stream",
          "name": "stdout",
          "text": [
            "the cleared set is:  set()\n"
          ]
        }
      ]
    },
    {
      "cell_type": "code",
      "source": [
        "#Que.18.\n",
        "myset={1,2,3,4}\n",
        "newset=myset.remove(4)\n",
        "print(\"new set is: \",myset)"
      ],
      "metadata": {
        "colab": {
          "base_uri": "https://localhost:8080/"
        },
        "id": "6bJYjaBAEgJg",
        "outputId": "68940da7-3051-4100-bf3b-f6c2a78448c0"
      },
      "execution_count": null,
      "outputs": [
        {
          "output_type": "stream",
          "name": "stdout",
          "text": [
            "new set is:  {1, 2, 3}\n"
          ]
        }
      ]
    },
    {
      "cell_type": "code",
      "source": [
        "#Que.19.\n",
        "setA={1,2,3}\n",
        "setB={3,4,5}\n",
        "unionset=setA.union(setB)\n",
        "print(\"the united set is: \",unionset)"
      ],
      "metadata": {
        "colab": {
          "base_uri": "https://localhost:8080/"
        },
        "id": "X-26avCQE_Zw",
        "outputId": "18cad7ff-2af9-47f0-a705-4e0a736b743f"
      },
      "execution_count": null,
      "outputs": [
        {
          "output_type": "stream",
          "name": "stdout",
          "text": [
            "the united set is:  {1, 2, 3, 4, 5}\n"
          ]
        }
      ]
    },
    {
      "cell_type": "code",
      "source": [
        "#Que.20.\n",
        "setA={1,2,3}\n",
        "setB={2,3,4}\n",
        "intersectionset=setA.intersection(setB)\n",
        "print(\"the intersection of the sets is: \",intersectionset)"
      ],
      "metadata": {
        "colab": {
          "base_uri": "https://localhost:8080/"
        },
        "id": "1w2AtLHGaPHo",
        "outputId": "d3d02b95-44c9-474a-ff2a-ba21e4a32c06"
      },
      "execution_count": null,
      "outputs": [
        {
          "output_type": "stream",
          "name": "stdout",
          "text": [
            "the intersection of the sets is:  {2, 3}\n"
          ]
        }
      ]
    },
    {
      "cell_type": "code",
      "source": [
        "#Que.21.\n",
        "username=input(\"enter a name: \")\n",
        "userage=int(input(\"enter age: \"))\n",
        "usercity=input(\"enter city name: \")\n",
        "data=dict(name=username,age=userage,city=usercity)\n",
        "print(\"the created dictionary is: \",data)"
      ],
      "metadata": {
        "colab": {
          "base_uri": "https://localhost:8080/"
        },
        "id": "H0G-unYJdFif",
        "outputId": "14721218-c3e9-4b15-e19f-8aa1023de586"
      },
      "execution_count": null,
      "outputs": [
        {
          "output_type": "stream",
          "name": "stdout",
          "text": [
            "enter a name: Prajakta \n",
            "enter age: 18\n",
            "enter city name: Omerga\n",
            "the created dictionary is:  {'name': 'Prajakta ', 'age': 18, 'city': 'Omerga'}\n"
          ]
        }
      ]
    },
    {
      "cell_type": "code",
      "source": [
        "#Que.22.\n",
        "dictionary={'name':'John','age':25}\n",
        "dictionary['country']='USA'\n",
        "print(\"the dictionary after adding new key-value pair is: \",dictionary)"
      ],
      "metadata": {
        "colab": {
          "base_uri": "https://localhost:8080/"
        },
        "id": "z5M40BF7pFl1",
        "outputId": "65365bba-6770-4b3f-ae7a-a7adcedaf2c6"
      },
      "execution_count": null,
      "outputs": [
        {
          "output_type": "stream",
          "name": "stdout",
          "text": [
            "the dictionary after adding new key-value pair is:  {'name': 'John', 'age': 25, 'country': 'USA'}\n"
          ]
        }
      ]
    },
    {
      "cell_type": "code",
      "source": [
        "#Que.23.\n",
        "dictionary={'name':'Alice','age':30}\n",
        "accessedvalue=dictionary.get('name')\n",
        "print(\"the accessed value is: \",accessedvalue)"
      ],
      "metadata": {
        "colab": {
          "base_uri": "https://localhost:8080/"
        },
        "id": "qHy2SjbDryTW",
        "outputId": "37b4ac73-7d15-4dec-9e5a-60621cde7d2a"
      },
      "execution_count": null,
      "outputs": [
        {
          "output_type": "stream",
          "name": "stdout",
          "text": [
            "the accessed value is:  Alice\n"
          ]
        }
      ]
    },
    {
      "cell_type": "code",
      "source": [
        "#Que.24.\n",
        "dictionary={'name':'Bob','age':22,'city':'New York'}\n",
        "del dictionary['age']\n",
        "print(\"the new dictinary is: \",dictionary)"
      ],
      "metadata": {
        "colab": {
          "base_uri": "https://localhost:8080/"
        },
        "id": "QFsaYe1PA_Uj",
        "outputId": "7805a5f8-d5fd-4ec9-c3ab-ccb4490ce7ce"
      },
      "execution_count": null,
      "outputs": [
        {
          "output_type": "stream",
          "name": "stdout",
          "text": [
            "the new dictinary is:  {'name': 'Bob', 'city': 'New York'}\n"
          ]
        }
      ]
    },
    {
      "cell_type": "code",
      "source": [
        "#Que.25.\n",
        "dictionary={'name':'Alice','city':'Paris'}\n",
        "if 'city' in dictionary:\n",
        "  print(\"city exists in dictionary\")\n",
        "else:\n",
        "  print(\"city does not exists in dictionary\")"
      ],
      "metadata": {
        "colab": {
          "base_uri": "https://localhost:8080/"
        },
        "id": "SUBI36ujCNGC",
        "outputId": "cd0cdcdc-a430-4ee3-9ce7-855aa80f7d6f"
      },
      "execution_count": null,
      "outputs": [
        {
          "output_type": "stream",
          "name": "stdout",
          "text": [
            "city exists in dictionary\n"
          ]
        }
      ]
    },
    {
      "cell_type": "code",
      "source": [
        "#Que.26.\n",
        "list1=[23,'Programming',2007,(22,8,2004),'Python']\n",
        "tuple1=(22,)\n",
        "dictionary={'name':'Programmer','age':18,'studying':'coding'}\n",
        "print(\"the list created is: \",list1)\n",
        "print(\"the tuple created is: \",tuple1)\n",
        "print(\"the dictionary created is: \",dictionary)"
      ],
      "metadata": {
        "colab": {
          "base_uri": "https://localhost:8080/"
        },
        "id": "IHH0w8O1Darr",
        "outputId": "1cb89da3-f15d-4dd3-ce99-1f6d16dc999c"
      },
      "execution_count": null,
      "outputs": [
        {
          "output_type": "stream",
          "name": "stdout",
          "text": [
            "the list created is:  [23, 'Programming', 2007, (22, 8, 2004), 'Python']\n",
            "the tuple created is:  (22,)\n",
            "the dictionary created is:  {'name': 'Programmer', 'age': 18, 'studying': 'coding'}\n"
          ]
        }
      ]
    },
    {
      "cell_type": "code",
      "source": [
        "#Que.27.\n",
        "import random\n",
        "list1=[]\n",
        "for i in range(5):\n",
        "  newlist=random.randint(1,101)\n",
        "  list1.append(newlist)\n",
        "print(\"the list of random numbers is: \",list1)\n",
        "list1.sort()\n",
        "print(\"the sorted list is: \",list1)"
      ],
      "metadata": {
        "colab": {
          "base_uri": "https://localhost:8080/"
        },
        "id": "Ce8DJUYxE22K",
        "outputId": "f49e9dee-5d60-4a70-c45f-237433904898"
      },
      "execution_count": null,
      "outputs": [
        {
          "output_type": "stream",
          "name": "stdout",
          "text": [
            "the list of random numbers is:  [15, 67, 97, 46, 92]\n",
            "the sorted list is:  [15, 46, 67, 92, 97]\n"
          ]
        }
      ]
    },
    {
      "cell_type": "code",
      "source": [
        "#Que.28.\n",
        "list1=['Python','Java','MySQL','C++','R','Javascript']\n",
        "element=list1[3]\n",
        "print(\"the element at 3rd index is: \",element)"
      ],
      "metadata": {
        "colab": {
          "base_uri": "https://localhost:8080/"
        },
        "id": "ci-RsFirGxfA",
        "outputId": "07c4f383-4549-4caa-f39e-625a07cbdd6f"
      },
      "execution_count": null,
      "outputs": [
        {
          "output_type": "stream",
          "name": "stdout",
          "text": [
            "the element at 3rd index is:  C++\n"
          ]
        }
      ]
    },
    {
      "cell_type": "code",
      "source": [
        "#Que.29.\n",
        "dict1={'name':'john','age':20}\n",
        "dict2={'city':'jaipur','country':'India'}\n",
        "dict1.update(dict2)\n",
        "print(\"the combined dictionary is: \",dict1)"
      ],
      "metadata": {
        "colab": {
          "base_uri": "https://localhost:8080/"
        },
        "id": "aNwMUOzdHdVS",
        "outputId": "75e90c76-347c-4ecd-ca70-63e280a80271"
      },
      "execution_count": null,
      "outputs": [
        {
          "output_type": "stream",
          "name": "stdout",
          "text": [
            "the combined dictionary is:  {'name': 'john', 'age': 20, 'city': 'jaipur', 'country': 'India'}\n"
          ]
        }
      ]
    },
    {
      "cell_type": "code",
      "source": [
        "#Que.30.\n",
        "Mylist=[\"Python\",\"Java\",\"C++\"]\n",
        "Myset=set(Mylist)\n",
        "print(\"the set of strings is: \",Myset)"
      ],
      "metadata": {
        "id": "v3LjYY6OLjh5",
        "colab": {
          "base_uri": "https://localhost:8080/"
        },
        "outputId": "7e9f2773-b2d2-403e-dd3c-554a0fd52d1d"
      },
      "execution_count": null,
      "outputs": [
        {
          "output_type": "stream",
          "name": "stdout",
          "text": [
            "the set of strings is:  {'C++', 'Java', 'Python'}\n"
          ]
        }
      ]
    }
  ]
}