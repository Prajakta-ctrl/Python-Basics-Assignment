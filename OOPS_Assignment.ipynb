{
  "cells": [
    {
      "cell_type": "markdown",
      "metadata": {
        "id": "view-in-github",
        "colab_type": "text"
      },
      "source": [
        "<a href=\"https://colab.research.google.com/github/Prajakta-ctrl/Python-Basics-Assignment/blob/main/OOPS_Assignment.ipynb\" target=\"_parent\"><img src=\"https://colab.research.google.com/assets/colab-badge.svg\" alt=\"Open In Colab\"/></a>"
      ]
    },
    {
      "cell_type": "markdown",
      "metadata": {
        "id": "ZrJY92vnHH6P"
      },
      "source": [
        "Theory Based Python OOPS Questions:\n",
        "\n",
        "Que.1.OOPS that is object oriented programming is a way of organizing data or code around the objects.\n",
        "\n",
        "Que.2.A class in OOP is a template for creating objects.\n",
        "\n",
        "Que.3.An object in OOP is a component of the program that knows how to perform the certain tasks and interactions of the other elements.\n",
        "\n",
        "Que.4.Abstraction is a method to hide the complexities of data and it only shows the essential part of the data while encapsulation is a way to bundles the data and to protects the data.\n",
        "\n",
        "Que.5.Dunder methods are the special methods in python that begins and ends with the double underscores.\n",
        "\n",
        "Que.6.Inheritance is a concept in OOP that allows a class to inherit or derive another properties and methods from another class.\n",
        "\n",
        "Que.7.Polymorphism in OOP allow methods in different classes to share the same names but perform the different tasks.\n",
        "\n",
        "Que.8.Encapsulation in python is achieved through the access modifiers.\n",
        "\n",
        "Que.9.constructor in python is a special method known when an object get created.\n",
        "\n",
        "Que.10.Class method is a method that is bound to the class and not to its instances while static method is a method that is not bound to either class or its instances.\n",
        "\n",
        "Que.11.Overloading is a method that is defined as the ability to define the multiple methods with same names but with different parameter lists.\n",
        "\n",
        "Que.12.Overriding is a subclass that is method from its superclass to change its behaviour.\n",
        "\n",
        "Que.13.A property decorator in python provides the getter, setter access to an attribute.\n",
        "\n",
        "Que.14.Polymorphism is important as it allows the same method to be used with the diferent types of the objects and it also makes the code reusable and more flexible.\n",
        "\n",
        "Que.15.An abstract method is a method that is declared without any implementation.\n",
        "\n",
        "Que.16.There are many more advantages of OOP like it is more flexible, scalable, it is reusable, also its code organization is more improved and its security is also enhanced.\n",
        "\n",
        "Que.17.class variables are defined within class while the instance variables are defined within instance methods.\n",
        "\n",
        "Que.18.Multiple inheritance refers to a method that allows a class to inherit attributes and more methods from more than one class.\n",
        "\n",
        "Que.19.The __str__ and __repr__ are the methods in python that are special methods used to represent the objects as strings.\n",
        "\n",
        "Que.20.The significance of the super() function in python is to access all the methods of parent class to child class.\n",
        "\n",
        "Que.21.The significance of __del__ method in python is to manage the resource cleaning once an object get destroyed. It is also known as destructor.\n",
        "\n",
        "Que.22.The main difference between class method and static method is that the class method takes the class itself as a first argument while static method do not need to take any special first argument.\n",
        "\n",
        "Que.23.Polymorphism itself means that the many forms that it enables the objects of the classes to response the same method. In python it is done with the inheritance that the polymorphism works with inheritance i\n",
        "\n",
        "Que.24.Chaining method in python is a technique that allows to call the mul\n",
        "\n",
        "Que.25.The __call__ method in python is used to make a code more reusable and more flexible that it enables the objects to befunctions"
      ]
    },
    {
      "cell_type": "markdown",
      "metadata": {
        "id": "GPz04I6xIIew"
      },
      "source": [
        "Practical Based Questions:"
      ]
    },
    {
      "cell_type": "code",
      "execution_count": null,
      "metadata": {
        "colab": {
          "base_uri": "https://localhost:8080/"
        },
        "id": "jOPpcN9cINcG",
        "outputId": "e049e0a2-9536-4dab-982a-a06893f12ec7"
      },
      "outputs": [
        {
          "name": "stdout",
          "output_type": "stream",
          "text": [
            "Animal speaks.\n",
            "Dog barks!\n"
          ]
        }
      ],
      "source": [
        "#Que.1.\n",
        "class Animal:\n",
        "  def speak(self):\n",
        "    print(\"Animal speaks.\")\n",
        "\n",
        "class Dog(Animal):\n",
        "  def speak(self):\n",
        "    print(\"Dog barks!\")\n",
        "\n",
        "A=Animal()\n",
        "A.speak()\n",
        "D=Dog()\n",
        "D.speak()"
      ]
    },
    {
      "cell_type": "code",
      "execution_count": null,
      "metadata": {
        "id": "MVhKaj78IUBH"
      },
      "outputs": [],
      "source": [
        "#Que.2.\n"
      ]
    },
    {
      "cell_type": "code",
      "execution_count": null,
      "metadata": {
        "colab": {
          "base_uri": "https://localhost:8080/"
        },
        "id": "9QKGAbv8IUHW",
        "outputId": "887f1f93-ab12-42f5-9f3a-155970978665"
      },
      "outputs": [
        {
          "name": "stdout",
          "output_type": "stream",
          "text": [
            "this is a vehicle.\n",
            "this is a car.\n",
            "this is an electriccar.\n",
            "battery is lithium\n"
          ]
        }
      ],
      "source": [
        "#Que.3.\n",
        "class Vehicle:\n",
        "  def  type(self):\n",
        "    print(\"this is a vehicle.\")\n",
        "\n",
        "class Car:\n",
        "  def type(self):\n",
        "    print(\"this is a car.\")\n",
        "\n",
        "class ElectricCar:\n",
        "  def type(self,battery):\n",
        "    self.battery=battery\n",
        "    print(\"this is an electriccar.\")\n",
        "    print(\"battery is\",battery)\n",
        "\n",
        "v=Vehicle()\n",
        "v.type()\n",
        "c=Car()\n",
        "c.type()\n",
        "e=ElectricCar()\n",
        "e.type(\"lithium\")\n"
      ]
    },
    {
      "cell_type": "code",
      "execution_count": null,
      "metadata": {
        "colab": {
          "background_save": true
        },
        "id": "m7J_u3PdIUOG",
        "outputId": "3216c477-72dc-48c7-a9a0-c559e641e0df"
      },
      "outputs": [
        {
          "name": "stdout",
          "output_type": "stream",
          "text": [
            "bird flies.\n",
            "sparrow flies.\n"
          ]
        },
        {
          "ename": "NameError",
          "evalue": "name 'penguin' is not defined",
          "output_type": "error",
          "traceback": [
            "\u001b[0;31m---------------------------------------------------------------------------\u001b[0m",
            "\u001b[0;31mNameError\u001b[0m                                 Traceback (most recent call last)",
            "\u001b[0;32m<ipython-input-10-f9755d5b06de>\u001b[0m in \u001b[0;36m<cell line: 0>\u001b[0;34m()\u001b[0m\n\u001b[1;32m     17\u001b[0m \u001b[0ms\u001b[0m\u001b[0;34m=\u001b[0m\u001b[0mSparrow\u001b[0m\u001b[0;34m(\u001b[0m\u001b[0;34m)\u001b[0m\u001b[0;34m\u001b[0m\u001b[0;34m\u001b[0m\u001b[0m\n\u001b[1;32m     18\u001b[0m \u001b[0ms\u001b[0m\u001b[0;34m.\u001b[0m\u001b[0mfly\u001b[0m\u001b[0;34m(\u001b[0m\u001b[0;34m)\u001b[0m\u001b[0;34m\u001b[0m\u001b[0;34m\u001b[0m\u001b[0m\n\u001b[0;32m---> 19\u001b[0;31m \u001b[0mp\u001b[0m\u001b[0;34m=\u001b[0m\u001b[0mpenguin\u001b[0m\u001b[0;34m(\u001b[0m\u001b[0;34m)\u001b[0m\u001b[0;34m\u001b[0m\u001b[0;34m\u001b[0m\u001b[0m\n\u001b[0m\u001b[1;32m     20\u001b[0m \u001b[0mp\u001b[0m\u001b[0;34m.\u001b[0m\u001b[0mfly\u001b[0m\u001b[0;34m(\u001b[0m\u001b[0;34m)\u001b[0m\u001b[0;34m\u001b[0m\u001b[0;34m\u001b[0m\u001b[0m\n",
            "\u001b[0;31mNameError\u001b[0m: name 'penguin' is not defined"
          ]
        }
      ],
      "source": [
        "#Que.4.\n",
        "class Bird:\n",
        "  def fly(self):\n",
        "    print(\"bird flies.\")\n",
        "\n",
        "class Sparrow(Bird):\n",
        "  def fly(self):\n",
        "    print(\"sparrow flies.\")\n",
        "\n",
        "class (Bird):\n",
        "  def fly(self):\n",
        "    print(\"sparrow flies.\")"
      ]
    },
    {
      "cell_type": "code",
      "execution_count": null,
      "metadata": {
        "colab": {
          "background_save": true
        },
        "id": "-umlKMQUIUVe",
        "outputId": "5b6c8f92-0d00-46af-8179-aae5c6901207"
      },
      "outputs": [
        {
          "ename": "AttributeError",
          "evalue": "'BankAccount' object has no attribute 'balance'",
          "output_type": "error",
          "traceback": [
            "\u001b[0;31m---------------------------------------------------------------------------\u001b[0m",
            "\u001b[0;31mAttributeError\u001b[0m                            Traceback (most recent call last)",
            "\u001b[0;32m<ipython-input-22-9bd1387e701a>\u001b[0m in \u001b[0;36m<cell line: 0>\u001b[0;34m()\u001b[0m\n\u001b[1;32m     16\u001b[0m \u001b[0;34m\u001b[0m\u001b[0m\n\u001b[1;32m     17\u001b[0m \u001b[0mb\u001b[0m\u001b[0;34m=\u001b[0m\u001b[0mBankAccount\u001b[0m\u001b[0;34m(\u001b[0m\u001b[0;34m)\u001b[0m\u001b[0;34m\u001b[0m\u001b[0;34m\u001b[0m\u001b[0m\n\u001b[0;32m---> 18\u001b[0;31m \u001b[0mb\u001b[0m\u001b[0;34m.\u001b[0m\u001b[0mbalance\u001b[0m\u001b[0;34m(\u001b[0m\u001b[0;34m)\u001b[0m\u001b[0;34m\u001b[0m\u001b[0;34m\u001b[0m\u001b[0m\n\u001b[0m\u001b[1;32m     19\u001b[0m \u001b[0mb\u001b[0m\u001b[0;34m.\u001b[0m\u001b[0mdeposit\u001b[0m\u001b[0;34m(\u001b[0m\u001b[0;36m500\u001b[0m\u001b[0;34m)\u001b[0m\u001b[0;34m\u001b[0m\u001b[0;34m\u001b[0m\u001b[0m\n\u001b[1;32m     20\u001b[0m \u001b[0mb\u001b[0m\u001b[0;34m.\u001b[0m\u001b[0mwithdraw\u001b[0m\u001b[0;34m(\u001b[0m\u001b[0;36m22\u001b[0m\u001b[0;34m)\u001b[0m\u001b[0;34m\u001b[0m\u001b[0;34m\u001b[0m\u001b[0m\n",
            "\u001b[0;31mAttributeError\u001b[0m: 'BankAccount' object has no attribute 'balance'"
          ]
        }
      ],
      "source": [
        "#Que.5."
      ]
    },
    {
      "cell_type": "code",
      "execution_count": null,
      "metadata": {
        "id": "aElbbVwIIUcu"
      },
      "outputs": [],
      "source": [
        "#Que.6."
      ]
    },
    {
      "cell_type": "code",
      "execution_count": null,
      "metadata": {
        "id": "AieRUAcqIUjn"
      },
      "outputs": [],
      "source": [
        "#Que.7."
      ]
    },
    {
      "cell_type": "code",
      "execution_count": null,
      "metadata": {
        "id": "EeB05nDAIUr_"
      },
      "outputs": [],
      "source": [
        "#Que.8."
      ]
    },
    {
      "cell_type": "code",
      "execution_count": null,
      "metadata": {
        "id": "DgYKbzLFIUz3"
      },
      "outputs": [],
      "source": [
        "#Que.9."
      ]
    },
    {
      "cell_type": "code",
      "execution_count": null,
      "metadata": {
        "id": "zGSOlPZzIU7n"
      },
      "outputs": [],
      "source": [
        "#Que.10."
      ]
    },
    {
      "cell_type": "code",
      "execution_count": null,
      "metadata": {
        "id": "w6SZPEHMIVJ_"
      },
      "outputs": [],
      "source": [
        "#Que.11."
      ]
    },
    {
      "cell_type": "code",
      "execution_count": null,
      "metadata": {
        "id": "cD_e97zoIVRQ"
      },
      "outputs": [],
      "source": [
        "#Que.12."
      ]
    },
    {
      "cell_type": "code",
      "execution_count": null,
      "metadata": {
        "id": "NyFrDqAhIVYe"
      },
      "outputs": [],
      "source": [
        "#Que.13."
      ]
    },
    {
      "cell_type": "code",
      "execution_count": null,
      "metadata": {
        "id": "doe9NJhrIVfo"
      },
      "outputs": [],
      "source": [
        "#Que.14."
      ]
    },
    {
      "cell_type": "code",
      "execution_count": null,
      "metadata": {
        "id": "s4eEAgjhIVne"
      },
      "outputs": [],
      "source": [
        "#Que.15."
      ]
    },
    {
      "cell_type": "code",
      "execution_count": null,
      "metadata": {
        "id": "LCkN5ovPIVun"
      },
      "outputs": [],
      "source": [
        "#Que.16."
      ]
    },
    {
      "cell_type": "code",
      "execution_count": null,
      "metadata": {
        "id": "AXAOm80JIV2H"
      },
      "outputs": [],
      "source": [
        "#Que.17."
      ]
    },
    {
      "cell_type": "code",
      "execution_count": null,
      "metadata": {
        "id": "sR2CNEBbI2ZO"
      },
      "outputs": [],
      "source": [
        "#Que.18."
      ]
    }
  ],
  "metadata": {
    "colab": {
      "provenance": [],
      "authorship_tag": "ABX9TyPHcBM3coQb8E2Qrddn6vNo",
      "include_colab_link": true
    },
    "kernelspec": {
      "display_name": "Python 3",
      "name": "python3"
    },
    "language_info": {
      "name": "python"
    }
  },
  "nbformat": 4,
  "nbformat_minor": 0
}