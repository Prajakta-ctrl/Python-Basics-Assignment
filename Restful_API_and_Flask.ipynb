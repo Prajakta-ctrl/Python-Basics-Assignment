{
  "nbformat": 4,
  "nbformat_minor": 0,
  "metadata": {
    "colab": {
      "provenance": [],
      "authorship_tag": "ABX9TyOlPRORxmJzPAnt/ZPF8FY/",
      "include_colab_link": true
    },
    "kernelspec": {
      "name": "python3",
      "display_name": "Python 3"
    },
    "language_info": {
      "name": "python"
    }
  },
  "cells": [
    {
      "cell_type": "markdown",
      "metadata": {
        "id": "view-in-github",
        "colab_type": "text"
      },
      "source": [
        "<a href=\"https://colab.research.google.com/github/Prajakta-ctrl/Python-Basics-Assignment/blob/main/Restful_API_and_Flask.ipynb\" target=\"_parent\"><img src=\"https://colab.research.google.com/assets/colab-badge.svg\" alt=\"Open In Colab\"/></a>"
      ]
    },
    {
      "cell_type": "markdown",
      "source": [
        "Theory Based Questions:\n",
        "\n",
        "Que.1.RESTFUL APIs are the ways for the computer systems to exchange information over internet.\n",
        "\n",
        "Que.2.API specification is a technical description of an API's behaviour nd structure.\n",
        "\n",
        "Que.3.Flask is a micro web framework in python which is popular for building APIs due to its simplicity and flexibility.\n",
        "\n",
        "Que.4.Routing in flask is process of mapping urls to the python functions.\n",
        "\n",
        "Que.6.HTTP methods used in RESTFUL APIs are PUT, PATCH, POST, DELETE and GET.\n",
        "\n",
        "Que.7.The app.route() decorator in Flask is for defining URL routing for a web application.\n",
        "\n",
        "Que.8.GET method is limited for some characters while POST method has no limitation.\n",
        "\n",
        "Que.9.we can handle errors in flask apis by raising HTTPException, by using errorhandler decorator of flask, by defining custom exceptions, etc..\n",
        "\n",
        "Que.10.To connect flask to mySQL we need to install mysql-connector-python then have to import mySQL-connector-python after we have to establish the connection within the routes and then we should also handle errors in that.\n",
        "\n",
        "Que.11.It provide us tools and methods to interact with our database in a flask applications through the SQLAlchemy.\n",
        "\n",
        "Que.12.Blueprints are the ways to organize our application into reusable components.\n",
        "\n",
        "Que.13.The purpose of flask's request object is to provide an access to incoming HTTP request data sent by user to the server.\n",
        "\n",
        "Que.14.To create RESTful API endpoint using flask it involves the defining routes and associating them with functions that handle the HTTP methods.\n",
        "\n",
        "Que.15."
      ],
      "metadata": {
        "id": "5FOYLaHBzO6c"
      }
    }
  ]
}