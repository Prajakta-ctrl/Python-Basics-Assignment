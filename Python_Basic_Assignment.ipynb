{
  "nbformat": 4,
  "nbformat_minor": 0,
  "metadata": {
    "colab": {
      "provenance": [],
      "authorship_tag": "ABX9TyP8qJxuB/RbUJ8FTl4b3wV4",
      "include_colab_link": true
    },
    "kernelspec": {
      "name": "python3",
      "display_name": "Python 3"
    },
    "language_info": {
      "name": "python"
    }
  },
  "cells": [
    {
      "cell_type": "markdown",
      "metadata": {
        "id": "view-in-github",
        "colab_type": "text"
      },
      "source": [
        "<a href=\"https://colab.research.google.com/github/Prajakta-ctrl/Python-Basics-Assignment/blob/main/Python_Basic_Assignment.ipynb\" target=\"_parent\"><img src=\"https://colab.research.google.com/assets/colab-badge.svg\" alt=\"Open In Colab\"/></a>"
      ]
    },
    {
      "cell_type": "markdown",
      "source": [
        "Theory based questions:\n",
        "\n",
        "Que.1.Python is a programming language. Python is popular because it's easy to learn and use, it has rich ecosystem of libraries, it's scalability and versatility is too good and it is an open source also.\n",
        "\n",
        "Que.2.An interpreter in a python is a mode that read and executes a python code line by line.\n",
        "\n",
        "Que.3.Predefined keywords are the words having special meaning assigned by the python language.\n",
        "\n",
        "Que.4.Keywords cannot be variable names.\n",
        "\n",
        "Que.5.Mutability in python meant that an object can be modified or changed after created.\n",
        "\n",
        "Que.6.Lists are mutable as they can be modified after once an object get created but tuples are immutable as they cannot be modified after once an object get created.\n",
        "\n",
        "Que.7.Main difference between \"==\" and \"is\" operators is that the \"==\" is an equality operator that shows equality between two given values and \"is\" is an operator that checks whether a given values are equal or not in the form of boolean value.\n",
        "\n",
        "Que.8.Logical operators are those keywords which are used to perform on the boolean expressions that resulting in boolean values that are True or False.\n",
        "\n",
        "Que.9.Type casting in python is a type changing process in which it convert variable's data type into another data type.\n",
        "\n",
        "Que.10.The difference between implicit and explicit type casting is that in implicit type casting the data type is automatically changed by python compiler and in explicit type casting thr data type is changed forcefully by thr involvement of user i.e. user forced.\n",
        "\n",
        "Que.11.The main purpose of the conditional statements in python is to make decisions for the execution of python code.\n",
        "\n",
        "Que.12.The elif condition is an else-if condition that is applied or works then only if \"if\" condition not applicablefor the given statement.\n",
        "\n",
        "Que.13.The main difference between for loop and while loop is that in for loop the number of iterations are already known whether in while loop iterations depends on the condition to be satisfied. forloop is structured in three parts where while loop is based on dynamic condition.\n",
        "\n",
        "Que.14.A while loop is more suitable than a for loop when we don't know the number of iterations."
      ],
      "metadata": {
        "id": "jbyO0ComrVkT"
      }
    },
    {
      "cell_type": "code",
      "source": [
        "from google.colab import drive\n",
        "drive.mount('/content/drive')"
      ],
      "metadata": {
        "id": "wD4iC9_HAfvD"
      },
      "execution_count": null,
      "outputs": []
    },
    {
      "cell_type": "markdown",
      "source": [
        "Practical Based Questions:\n"
      ],
      "metadata": {
        "id": "y0VPCQdQtMMr"
      }
    },
    {
      "cell_type": "code",
      "source": [
        "#Que.1.\n",
        "print(\"Hello, World!\")"
      ],
      "metadata": {
        "colab": {
          "base_uri": "https://localhost:8080/"
        },
        "id": "I4UNSU23tenL",
        "outputId": "6853a85b-7d23-4273-8653-f9a7291fb924"
      },
      "execution_count": null,
      "outputs": [
        {
          "output_type": "stream",
          "name": "stdout",
          "text": [
            "Hello, World!\n"
          ]
        }
      ]
    },
    {
      "cell_type": "code",
      "source": [
        "#Que.2.\n",
        "Name=input(\"Enter your name: \")\n",
        "Age=int(input(\"Enter your age: \"))\n",
        "print(\"Name: \",Name)\n",
        "print(\"Age: \",Age)"
      ],
      "metadata": {
        "colab": {
          "base_uri": "https://localhost:8080/"
        },
        "id": "JgmXCVQ1u8Hz",
        "outputId": "05530553-bd76-4721-e095-06b165b30cfe"
      },
      "execution_count": null,
      "outputs": [
        {
          "output_type": "stream",
          "name": "stdout",
          "text": [
            "Enter your name: Prajakta Sarade\n",
            "Enter your age: 18\n",
            "Name:  Prajakta Sarade\n",
            "Age:  18\n"
          ]
        }
      ]
    },
    {
      "cell_type": "code",
      "source": [
        "#Que.3.\n",
        "import keyword\n",
        "keywordslist=keyword.kwlist\n",
        "print(\"the list of keywords is: \", keywordslist)"
      ],
      "metadata": {
        "colab": {
          "base_uri": "https://localhost:8080/"
        },
        "id": "DjFDW2k2vmAT",
        "outputId": "5a625d1a-68e3-43a3-93e4-c983cf2643b0"
      },
      "execution_count": null,
      "outputs": [
        {
          "output_type": "stream",
          "name": "stdout",
          "text": [
            "the list of keywords is:  ['False', 'None', 'True', 'and', 'as', 'assert', 'async', 'await', 'break', 'class', 'continue', 'def', 'del', 'elif', 'else', 'except', 'finally', 'for', 'from', 'global', 'if', 'import', 'in', 'is', 'lambda', 'nonlocal', 'not', 'or', 'pass', 'raise', 'return', 'try', 'while', 'with', 'yield']\n"
          ]
        }
      ]
    },
    {
      "cell_type": "code",
      "source": [
        "#Que.4.\n",
        "import keyword\n",
        "userword=input(\"Enter a word: \")\n",
        "if keyword.iskeyword(userword):\n",
        "  print(userword,\"is a keyword\")\n",
        "else:\n",
        "  print(userword,\"is not a keyword\")"
      ],
      "metadata": {
        "colab": {
          "base_uri": "https://localhost:8080/"
        },
        "id": "l4BNjwFE1pgr",
        "outputId": "0e778860-5dc8-4aca-8f8d-9181e7592ee5"
      },
      "execution_count": null,
      "outputs": [
        {
          "output_type": "stream",
          "name": "stdout",
          "text": [
            "Enter a word: for\n",
            "for is a keyword\n"
          ]
        }
      ]
    },
    {
      "cell_type": "code",
      "source": [
        "#Que.5.\n",
        "userlist=[1,2,3,4]\n",
        "usertuple=(1,2,3,4)\n",
        "userlist.append(5)\n",
        "print(userlist)\n",
        "userlist[2]=6\n",
        "print(userlist)\n",
        "usertuple.append(5)\n",
        "print(usertuple)\n",
        "usertuple[3]=6\n",
        "print(usertuple)"
      ],
      "metadata": {
        "colab": {
          "base_uri": "https://localhost:8080/",
          "height": 245
        },
        "id": "MMfWAO3g2_IW",
        "outputId": "64046e66-9d5d-4770-e9dc-a9edb1664783"
      },
      "execution_count": null,
      "outputs": [
        {
          "output_type": "stream",
          "name": "stdout",
          "text": [
            "[1, 2, 3, 4, 5]\n",
            "[1, 2, 6, 4, 5]\n"
          ]
        },
        {
          "output_type": "error",
          "ename": "AttributeError",
          "evalue": "'tuple' object has no attribute 'append'",
          "traceback": [
            "\u001b[0;31m---------------------------------------------------------------------------\u001b[0m",
            "\u001b[0;31mAttributeError\u001b[0m                            Traceback (most recent call last)",
            "\u001b[0;32m<ipython-input-19-401be4dd44d3>\u001b[0m in \u001b[0;36m<cell line: 0>\u001b[0;34m()\u001b[0m\n\u001b[1;32m      6\u001b[0m \u001b[0muserlist\u001b[0m\u001b[0;34m[\u001b[0m\u001b[0;36m2\u001b[0m\u001b[0;34m]\u001b[0m\u001b[0;34m=\u001b[0m\u001b[0;36m6\u001b[0m\u001b[0;34m\u001b[0m\u001b[0;34m\u001b[0m\u001b[0m\n\u001b[1;32m      7\u001b[0m \u001b[0mprint\u001b[0m\u001b[0;34m(\u001b[0m\u001b[0muserlist\u001b[0m\u001b[0;34m)\u001b[0m\u001b[0;34m\u001b[0m\u001b[0;34m\u001b[0m\u001b[0m\n\u001b[0;32m----> 8\u001b[0;31m \u001b[0musertuple\u001b[0m\u001b[0;34m.\u001b[0m\u001b[0mappend\u001b[0m\u001b[0;34m(\u001b[0m\u001b[0;36m5\u001b[0m\u001b[0;34m)\u001b[0m\u001b[0;34m\u001b[0m\u001b[0;34m\u001b[0m\u001b[0m\n\u001b[0m\u001b[1;32m      9\u001b[0m \u001b[0mprint\u001b[0m\u001b[0;34m(\u001b[0m\u001b[0musertuple\u001b[0m\u001b[0;34m)\u001b[0m\u001b[0;34m\u001b[0m\u001b[0;34m\u001b[0m\u001b[0m\n\u001b[1;32m     10\u001b[0m \u001b[0musertuple\u001b[0m\u001b[0;34m[\u001b[0m\u001b[0;36m3\u001b[0m\u001b[0;34m]\u001b[0m\u001b[0;34m=\u001b[0m\u001b[0;36m6\u001b[0m\u001b[0;34m\u001b[0m\u001b[0;34m\u001b[0m\u001b[0m\n",
            "\u001b[0;31mAttributeError\u001b[0m: 'tuple' object has no attribute 'append'"
          ]
        }
      ]
    },
    {
      "cell_type": "code",
      "source": [
        "#Que.6.\n",
        "def mutability():\n",
        "  list=[1,2,3,4,5]\n",
        "  list[4]=6\n",
        "  print(list)\n",
        "mutability()\n",
        "\n",
        "def immutability():\n",
        "  tuple=(1,2,3,4,5)\n",
        "  tuple[4]=6\n",
        "  print(tuple)\n",
        "immutability()"
      ],
      "metadata": {
        "colab": {
          "base_uri": "https://localhost:8080/",
          "height": 315
        },
        "id": "n4O1rFFy6Q68",
        "outputId": "5b4f74f7-1334-41f0-a3a9-2fb8f0c6f5ab"
      },
      "execution_count": null,
      "outputs": [
        {
          "output_type": "stream",
          "name": "stdout",
          "text": [
            "[1, 2, 3, 4, 6]\n"
          ]
        },
        {
          "output_type": "error",
          "ename": "TypeError",
          "evalue": "'tuple' object does not support item assignment",
          "traceback": [
            "\u001b[0;31m---------------------------------------------------------------------------\u001b[0m",
            "\u001b[0;31mTypeError\u001b[0m                                 Traceback (most recent call last)",
            "\u001b[0;32m<ipython-input-20-d57ca982150e>\u001b[0m in \u001b[0;36m<cell line: 0>\u001b[0;34m()\u001b[0m\n\u001b[1;32m     10\u001b[0m   \u001b[0mtuple\u001b[0m\u001b[0;34m[\u001b[0m\u001b[0;36m4\u001b[0m\u001b[0;34m]\u001b[0m\u001b[0;34m=\u001b[0m\u001b[0;36m6\u001b[0m\u001b[0;34m\u001b[0m\u001b[0;34m\u001b[0m\u001b[0m\n\u001b[1;32m     11\u001b[0m   \u001b[0mprint\u001b[0m\u001b[0;34m(\u001b[0m\u001b[0mtuple\u001b[0m\u001b[0;34m)\u001b[0m\u001b[0;34m\u001b[0m\u001b[0;34m\u001b[0m\u001b[0m\n\u001b[0;32m---> 12\u001b[0;31m \u001b[0mimmutability\u001b[0m\u001b[0;34m(\u001b[0m\u001b[0;34m)\u001b[0m\u001b[0;34m\u001b[0m\u001b[0;34m\u001b[0m\u001b[0m\n\u001b[0m",
            "\u001b[0;32m<ipython-input-20-d57ca982150e>\u001b[0m in \u001b[0;36mimmutability\u001b[0;34m()\u001b[0m\n\u001b[1;32m      8\u001b[0m \u001b[0;32mdef\u001b[0m \u001b[0mimmutability\u001b[0m\u001b[0;34m(\u001b[0m\u001b[0;34m)\u001b[0m\u001b[0;34m:\u001b[0m\u001b[0;34m\u001b[0m\u001b[0;34m\u001b[0m\u001b[0m\n\u001b[1;32m      9\u001b[0m   \u001b[0mtuple\u001b[0m\u001b[0;34m=\u001b[0m\u001b[0;34m(\u001b[0m\u001b[0;36m1\u001b[0m\u001b[0;34m,\u001b[0m\u001b[0;36m2\u001b[0m\u001b[0;34m,\u001b[0m\u001b[0;36m3\u001b[0m\u001b[0;34m,\u001b[0m\u001b[0;36m4\u001b[0m\u001b[0;34m,\u001b[0m\u001b[0;36m5\u001b[0m\u001b[0;34m)\u001b[0m\u001b[0;34m\u001b[0m\u001b[0;34m\u001b[0m\u001b[0m\n\u001b[0;32m---> 10\u001b[0;31m   \u001b[0mtuple\u001b[0m\u001b[0;34m[\u001b[0m\u001b[0;36m4\u001b[0m\u001b[0;34m]\u001b[0m\u001b[0;34m=\u001b[0m\u001b[0;36m6\u001b[0m\u001b[0;34m\u001b[0m\u001b[0;34m\u001b[0m\u001b[0m\n\u001b[0m\u001b[1;32m     11\u001b[0m   \u001b[0mprint\u001b[0m\u001b[0;34m(\u001b[0m\u001b[0mtuple\u001b[0m\u001b[0;34m)\u001b[0m\u001b[0;34m\u001b[0m\u001b[0;34m\u001b[0m\u001b[0m\n\u001b[1;32m     12\u001b[0m \u001b[0mimmutability\u001b[0m\u001b[0;34m(\u001b[0m\u001b[0;34m)\u001b[0m\u001b[0;34m\u001b[0m\u001b[0;34m\u001b[0m\u001b[0m\n",
            "\u001b[0;31mTypeError\u001b[0m: 'tuple' object does not support item assignment"
          ]
        }
      ]
    },
    {
      "cell_type": "code",
      "source": [
        "#Que.7.\n",
        "num1=int(input(\"enter 1st number: \"))\n",
        "num2=int(input(\"enter 2nd number: \"))\n",
        "operator=input(\"enter an operator: \")\n",
        "if operator=='+':\n",
        "  print(num1+num2)\n",
        "elif operator=='-':\n",
        "  print(num1-num2)\n",
        "elif operator=='*':\n",
        "  print(num1*num2)\n",
        "elif operator=='/':\n",
        "  print(num1/num2)"
      ],
      "metadata": {
        "colab": {
          "base_uri": "https://localhost:8080/"
        },
        "id": "d1_Wc48i7La8",
        "outputId": "3d5696ef-c8a9-4989-c99e-db3926a628ff"
      },
      "execution_count": null,
      "outputs": [
        {
          "output_type": "stream",
          "name": "stdout",
          "text": [
            "enter 1st number: 80\n",
            "enter 2nd number: 5\n",
            "enter an operator: +\n",
            "85\n"
          ]
        }
      ]
    },
    {
      "cell_type": "code",
      "source": [
        "#Que.8.\n",
        "list=[1,2,3,4,5]\n",
        "if 2 in list:\n",
        "  print(\"True\")\n",
        "elif 2 not in list:\n",
        "  print(\"False\")"
      ],
      "metadata": {
        "colab": {
          "base_uri": "https://localhost:8080/"
        },
        "id": "Sb7lSuwZ9THY",
        "outputId": "404307a6-9ac0-41f4-d4e6-301540661d0c"
      },
      "execution_count": null,
      "outputs": [
        {
          "output_type": "stream",
          "name": "stdout",
          "text": [
            "True\n"
          ]
        }
      ]
    },
    {
      "cell_type": "code",
      "source": [
        "#Que.9.\n",
        "string=\"18\"\n",
        "integer=int(string)\n",
        "float_=float(string)\n",
        "boolean=bool(string)\n",
        "print(integer)\n",
        "print(float_)\n",
        "print(boolean)"
      ],
      "metadata": {
        "colab": {
          "base_uri": "https://localhost:8080/"
        },
        "id": "BfVQCfic-Mb0",
        "outputId": "d2ea93d3-15eb-4c4e-cc1d-a1b2c7bb1420"
      },
      "execution_count": null,
      "outputs": [
        {
          "output_type": "stream",
          "name": "stdout",
          "text": [
            "0\n",
            "0.0\n",
            "True\n"
          ]
        }
      ]
    },
    {
      "cell_type": "code",
      "source": [
        "#Que.10.\n",
        "#implicit type casting\n",
        "data=10\n",
        "print(type(data))\n",
        "\n",
        "#explicit type casting\n",
        "data2=float(10)\n",
        "print(type(data2))"
      ],
      "metadata": {
        "colab": {
          "base_uri": "https://localhost:8080/"
        },
        "id": "mi1iP9DeAHQs",
        "outputId": "9b888d24-bdf6-4e09-9624-8d659332fd48"
      },
      "execution_count": null,
      "outputs": [
        {
          "output_type": "stream",
          "name": "stdout",
          "text": [
            "<class 'int'>\n",
            "<class 'float'>\n"
          ]
        }
      ]
    },
    {
      "cell_type": "code",
      "source": [
        "#Que.11.\n",
        "number=int(input(\"enter a number: \"))\n",
        "if number>0:\n",
        "  print(number, \"is a positive number.\")\n",
        "elif number==0:\n",
        "  print(number, \"is a zero.\")\n",
        "else:\n",
        "  print(number, \"number is negative number.\")"
      ],
      "metadata": {
        "colab": {
          "base_uri": "https://localhost:8080/"
        },
        "id": "AIJsIucxCpns",
        "outputId": "a19aa4a6-e93d-44a0-ff61-0aeb7afac624"
      },
      "execution_count": null,
      "outputs": [
        {
          "output_type": "stream",
          "name": "stdout",
          "text": [
            "enter a number: 45\n",
            "45 is a positive number.\n"
          ]
        }
      ]
    },
    {
      "cell_type": "code",
      "source": [
        "#Que.12.\n",
        "for i in range(1,11):\n",
        "  print(i)"
      ],
      "metadata": {
        "colab": {
          "base_uri": "https://localhost:8080/"
        },
        "id": "DCOts2xBDb4s",
        "outputId": "77dd65df-4a22-47e7-96fc-54b2249434e3"
      },
      "execution_count": null,
      "outputs": [
        {
          "output_type": "stream",
          "name": "stdout",
          "text": [
            "1\n",
            "2\n",
            "3\n",
            "4\n",
            "5\n",
            "6\n",
            "7\n",
            "8\n",
            "9\n",
            "10\n"
          ]
        }
      ]
    },
    {
      "cell_type": "code",
      "source": [
        "#Que.13.\n",
        "sum_of_evennumbers=0\n",
        "for i in range(2,51,2):\n",
        "  sum_of_evennumbers+=i\n",
        "print(sum_of_evennumbers)"
      ],
      "metadata": {
        "colab": {
          "base_uri": "https://localhost:8080/"
        },
        "id": "aokivwndD5jU",
        "outputId": "ee1f22f5-d45c-42c5-bb18-1b24958d6acd"
      },
      "execution_count": null,
      "outputs": [
        {
          "output_type": "stream",
          "name": "stdout",
          "text": [
            "650\n"
          ]
        }
      ]
    },
    {
      "cell_type": "code",
      "source": [
        "#Que.14.\n",
        "string=input(\"enter a string: \")\n",
        "reversed_string=''\n",
        "length=len(string) -1\n",
        "while length>=0:\n",
        "  reversed_string=reversed_string+string[length]\n",
        "  length=length-1\n",
        "print(reversed_string)"
      ],
      "metadata": {
        "colab": {
          "base_uri": "https://localhost:8080/"
        },
        "id": "BBJkSz2CEqCE",
        "outputId": "fc430116-541a-4b80-f312-d7ec4d8b1a71"
      },
      "execution_count": null,
      "outputs": [
        {
          "output_type": "stream",
          "name": "stdout",
          "text": [
            "enter a string: prajakta\n",
            "atkajarp\n"
          ]
        }
      ]
    },
    {
      "cell_type": "code",
      "source": [
        "#Que.15.\n",
        "fac=1\n",
        "number=int(input(\"enter a number: \"))\n",
        "while number>=1:\n",
        "  fac*=number\n",
        "  number-=1\n",
        "print(fac)"
      ],
      "metadata": {
        "colab": {
          "base_uri": "https://localhost:8080/"
        },
        "id": "OHI_W9kkJDW9",
        "outputId": "211b9274-b1de-4976-d5e6-7a9e57ee1944"
      },
      "execution_count": null,
      "outputs": [
        {
          "output_type": "stream",
          "name": "stdout",
          "text": [
            "enter a number: 5\n",
            "120\n"
          ]
        }
      ]
    }
  ]
}