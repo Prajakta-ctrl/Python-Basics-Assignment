{
  "nbformat": 4,
  "nbformat_minor": 0,
  "metadata": {
    "colab": {
      "provenance": [],
      "authorship_tag": "ABX9TyMfPsLgIhTlPBDhDqYUICxR",
      "include_colab_link": true
    },
    "kernelspec": {
      "name": "python3",
      "display_name": "Python 3"
    },
    "language_info": {
      "name": "python"
    }
  },
  "cells": [
    {
      "cell_type": "markdown",
      "metadata": {
        "id": "view-in-github",
        "colab_type": "text"
      },
      "source": [
        "<a href=\"https://colab.research.google.com/github/Prajakta-ctrl/Python-Basics-Assignment/blob/main/File_Handling_Assignment.ipynb\" target=\"_parent\"><img src=\"https://colab.research.google.com/assets/colab-badge.svg\" alt=\"Open In Colab\"/></a>"
      ]
    },
    {
      "cell_type": "markdown",
      "source": [
        "Theory Based Questions:\n",
        "\n",
        "\n",
        "Que.1.The compiled language is translated into the machine language or the code before the execution of program that can be easily understood by the machine using coompiler while interpreted language is executed line by line with the help of an interpreter.\n",
        "\n",
        "Que.2.Exception handling is a technique to manage the errors that can be arised during the execution of code or program.\n",
        "\n",
        "Que.3.Finally block in exception handling give the guarantee of execution of the code even if an error occurs it gives the result or output or simply it is get executed.\n",
        "\n",
        "Que.4.Logging in python is a built in module that helps to provide framework to track events\n",
        "\n",
        "Que.5.The __del__ method is known as a destructor method that is called when an object is destroyed.\n",
        "\n",
        "Que.6.The difference between import and  from... import is that when we use import method all the attributes get imported but when we use from ... import then the selected attribute is get imported.\n",
        "\n",
        "Que.7.We can handle the multiple exceptions by using try except block in python.\n",
        "\n",
        "Que.8.The purpose of with statement when handling files in python is that when we use with statement it simplifies the process of opening and closing of files and then makes it more readable.\n",
        "\n",
        "Que.9.The Multithreading involves running multiple threads within a single process while Multiprocessing involves running multiple processes within its own memory space.\n",
        "\n",
        "Que.10.The advantages of using logging in python program is that it saves time and cost of the application by simplifying the debugging and by the easy maintenance.\n",
        "\n",
        "Que.11.Memory management in python is allocating and dellocating the memory locations while executing the code.\n",
        "\n",
        "Que.12.The basic steps involved in exception handling in python are like first using try block then handle exceptions with except blocks then use else block and then to use finally block. These are the some basic steps involved in exception handling.\n",
        "\n",
        "Que.13.Memory management is important in python because memory management allocates the memory locations for objects efficiently.\n",
        "\n",
        "Que.14.The role of try and accept block is to handle the errors together.\n",
        "\n",
        "Que.15.Python's garbage collection system automatically cleans up any unused objects based on reference counting and object allocation and deallocation.\n",
        "\n",
        "Que.16.The purpose of else block is useful when we want to perform a particular task when there is no single exception occurs.\n",
        "\n",
        "Que.17.The common logging levels are DEBUG, INFO, WARNING, ERROR AND CRITICAL.\n",
        "\n",
        "Que.18.os.fork creates copy of the process. By executing os.fork it creates two processes that is parent process and child process. Multiprocessing occurs when running multiple processes within its own memory space.\n",
        "\n",
        "Que.19.File closing is important because of the data integrity and many reasons related to the resource management.\n",
        "\n",
        "Que.20.file.read() is used to read the bytes or characters and file.readlines() is used to read multiple lines present in the file.\n",
        "\n",
        "Que.21.TThe logging module in python is used for tracking the events that occurs during the execution of the code.\n",
        "\n",
        "Que.22.In file handling os module in python is used for interaction with the operating system.\n",
        "\n",
        "Que.23.There are many challenges asociated with memory management like memory leakage, higher memory consumption, performance issues etc..\n",
        "\n",
        "Que.24.Exceptions can be raised manually in python by using raise keyword.\n",
        "\n",
        "Que.25.Multithreading is used in certain applications because it is important to improve the performance and resource utilization."
      ],
      "metadata": {
        "id": "Ynzs4YvZBi9Q"
      }
    },
    {
      "cell_type": "markdown",
      "source": [
        "Practical Based Questions:\n"
      ],
      "metadata": {
        "id": "4hZ1OcN42HWS"
      }
    },
    {
      "cell_type": "code",
      "source": [
        "#Que.1.\n",
        "file=open(\"file.txt\",\"w\")\n",
        "string=input(\"enter a string\")\n",
        "file.write(string)\n",
        "file.close()"
      ],
      "metadata": {
        "id": "MEzB4KJ-fhJy"
      },
      "execution_count": null,
      "outputs": []
    },
    {
      "cell_type": "code",
      "source": [
        "#Que.2.\n",
        "file=open(\"file.txt\",\"r\")\n",
        "data=file.readlines()\n",
        "for i in data:\n",
        "  print(i)\n",
        "file.close()"
      ],
      "metadata": {
        "id": "YS12FeCDfhMr"
      },
      "execution_count": null,
      "outputs": []
    },
    {
      "cell_type": "code",
      "source": [
        "#Que.3.\n",
        "try:\n",
        "  file=open(\"file.txt\",\"r\")\n",
        "  data=file.read()\n",
        "  print(data)\n",
        "  file.close()\n",
        "\n",
        "except FileNotFoundError:\n",
        "  print(\"File not found\")"
      ],
      "metadata": {
        "id": "Mx7_pMd1fhPc"
      },
      "execution_count": null,
      "outputs": []
    },
    {
      "cell_type": "code",
      "source": [
        "#Que.4.\n",
        "file1=open(\"file.txt\",\"r\")\n",
        "data1=file.read()\n",
        "file2=open(\"another_file.txt\",\"w\")\n",
        "file2.write(data)\n",
        "data2=file2.read()\n",
        "print(data2)\n",
        "file1.close()\n",
        "file2.close()"
      ],
      "metadata": {
        "id": "QlfQksJZfhSE"
      },
      "execution_count": null,
      "outputs": []
    },
    {
      "cell_type": "code",
      "source": [
        "#Que.5.\n",
        "def division(x,y):\n",
        "  try:\n",
        "    print(x/y)\n",
        "  except ZeroDivisionError:\n",
        "    print(\"division by zero is not possible\")\n",
        "\n",
        "x=int(input(\"enter a number\"))\n",
        "y=int(input(\"enter a number\"))\n",
        "division(x,y)"
      ],
      "metadata": {
        "id": "RjAyyX93fhUi"
      },
      "execution_count": null,
      "outputs": []
    },
    {
      "cell_type": "code",
      "source": [
        "#Que.6.\n",
        "import logging\n",
        "\n",
        "def division(x,y)\n",
        "\n",
        "  try:\n",
        "      print(x/y)\n",
        "\n",
        "  except ZeroDivisionError as e:\n",
        "      logging.error(\"Division by zero error: %s\", e)"
      ],
      "metadata": {
        "id": "_88oqw1JfhXK"
      },
      "execution_count": null,
      "outputs": []
    },
    {
      "cell_type": "code",
      "source": [
        "#Que.7.\n",
        "import logging\n",
        "\n",
        "logger = logging.getLogger(__name__)\n",
        "logging.basicConfig(filename='my_file.log', encoding='ctrl-22', level=logging.DEBUG)\n",
        "logger.debug('This message should go to the log file')\n",
        "logger.info('So should this')\n",
        "logger.warning('And this, too')\n",
        "logger.error('And non-ASCII stuff, too, like Øresund and Malmö')"
      ],
      "metadata": {
        "id": "VWtLpYSHfhb1"
      },
      "execution_count": null,
      "outputs": []
    },
    {
      "cell_type": "code",
      "source": [
        "#Que.9.\n",
        "file=open(\"file.txt\",\"r\")\n",
        "list=[]\n",
        "data=file.readlines()\n",
        "for i in data:\n",
        "  list.append(i)\n",
        "print(list)\n",
        "file.close()"
      ],
      "metadata": {
        "id": "3dkqy2dE9t5L"
      },
      "execution_count": null,
      "outputs": []
    },
    {
      "cell_type": "code",
      "source": [
        "#Que.10.\n",
        "file=open(\"file.txt\",\"a\")\n",
        "data=file.read()\n",
        "input_data=input(\"enter input\")\n",
        "file.write(input_data)\n",
        "file.close()"
      ],
      "metadata": {
        "id": "4UPAKXaf-t_j"
      },
      "execution_count": null,
      "outputs": []
    },
    {
      "cell_type": "code",
      "source": [
        "#Que.11.\n"
      ],
      "metadata": {
        "id": "3LqLBFGW_dXU"
      },
      "execution_count": null,
      "outputs": []
    }
  ]
}